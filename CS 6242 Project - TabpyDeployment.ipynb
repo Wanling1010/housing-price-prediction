{
 "cells": [
  {
   "cell_type": "code",
   "execution_count": 1,
   "id": "543ca048",
   "metadata": {},
   "outputs": [],
   "source": [
    "import tabpy\n",
    "import pickle\n",
    "from tabpy.tabpy_tools.client import Client\n",
    "import numpy as np\n",
    "import pandas as pd\n",
    "from sklearn.metrics import mean_squared_error, r2_score\n",
    "from sklearn.preprocessing import StandardScaler\n",
    "from sklearn.model_selection import train_test_split\n",
    "\n",
    "pd.options.display.max_columns=None\n",
    "client = Client('http://localhost:9004/')"
   ]
  },
  {
   "cell_type": "markdown",
   "id": "6ed2777e",
   "metadata": {},
   "source": [
    "**Create Calculate Field in Tableau<br>**\n",
    "SCRIPT_REAL(\"return tabpy.query('price_prediction',<br>\n",
    "_arg1,_arg2,_arg3,_arg4,_arg5,_arg6,_arg7,_arg8,<br>\n",
    "_arg9,_arg10,_arg11,_arg12,_arg13)['response']\",<br>\n",
    "[flat type input],[storey range input],<br>\n",
    "[house size input],[nearest mall input],[nearest school input],<br>\n",
    "[nearest mrt input],[nearest park input],[month remaining input],<br>\n",
    "[mrt flag input ],[time to cbd flat input],[matured estate flag input],<br>\n",
    "[town input],[flat model input]<br>\n",
    ")"
   ]
  },
  {
   "cell_type": "code",
   "execution_count": 4,
   "id": "05919a1a",
   "metadata": {},
   "outputs": [],
   "source": [
    "xgb_model=pickle.load(open(\"project_model.pickle.dat\", \"rb\"))"
   ]
  },
  {
   "cell_type": "code",
   "execution_count": 5,
   "id": "9ecdc963",
   "metadata": {},
   "outputs": [
    {
     "data": {
      "text/html": [
       "<style>#sk-container-id-1 {color: black;background-color: white;}#sk-container-id-1 pre{padding: 0;}#sk-container-id-1 div.sk-toggleable {background-color: white;}#sk-container-id-1 label.sk-toggleable__label {cursor: pointer;display: block;width: 100%;margin-bottom: 0;padding: 0.3em;box-sizing: border-box;text-align: center;}#sk-container-id-1 label.sk-toggleable__label-arrow:before {content: \"▸\";float: left;margin-right: 0.25em;color: #696969;}#sk-container-id-1 label.sk-toggleable__label-arrow:hover:before {color: black;}#sk-container-id-1 div.sk-estimator:hover label.sk-toggleable__label-arrow:before {color: black;}#sk-container-id-1 div.sk-toggleable__content {max-height: 0;max-width: 0;overflow: hidden;text-align: left;background-color: #f0f8ff;}#sk-container-id-1 div.sk-toggleable__content pre {margin: 0.2em;color: black;border-radius: 0.25em;background-color: #f0f8ff;}#sk-container-id-1 input.sk-toggleable__control:checked~div.sk-toggleable__content {max-height: 200px;max-width: 100%;overflow: auto;}#sk-container-id-1 input.sk-toggleable__control:checked~label.sk-toggleable__label-arrow:before {content: \"▾\";}#sk-container-id-1 div.sk-estimator input.sk-toggleable__control:checked~label.sk-toggleable__label {background-color: #d4ebff;}#sk-container-id-1 div.sk-label input.sk-toggleable__control:checked~label.sk-toggleable__label {background-color: #d4ebff;}#sk-container-id-1 input.sk-hidden--visually {border: 0;clip: rect(1px 1px 1px 1px);clip: rect(1px, 1px, 1px, 1px);height: 1px;margin: -1px;overflow: hidden;padding: 0;position: absolute;width: 1px;}#sk-container-id-1 div.sk-estimator {font-family: monospace;background-color: #f0f8ff;border: 1px dotted black;border-radius: 0.25em;box-sizing: border-box;margin-bottom: 0.5em;}#sk-container-id-1 div.sk-estimator:hover {background-color: #d4ebff;}#sk-container-id-1 div.sk-parallel-item::after {content: \"\";width: 100%;border-bottom: 1px solid gray;flex-grow: 1;}#sk-container-id-1 div.sk-label:hover label.sk-toggleable__label {background-color: #d4ebff;}#sk-container-id-1 div.sk-serial::before {content: \"\";position: absolute;border-left: 1px solid gray;box-sizing: border-box;top: 0;bottom: 0;left: 50%;z-index: 0;}#sk-container-id-1 div.sk-serial {display: flex;flex-direction: column;align-items: center;background-color: white;padding-right: 0.2em;padding-left: 0.2em;position: relative;}#sk-container-id-1 div.sk-item {position: relative;z-index: 1;}#sk-container-id-1 div.sk-parallel {display: flex;align-items: stretch;justify-content: center;background-color: white;position: relative;}#sk-container-id-1 div.sk-item::before, #sk-container-id-1 div.sk-parallel-item::before {content: \"\";position: absolute;border-left: 1px solid gray;box-sizing: border-box;top: 0;bottom: 0;left: 50%;z-index: -1;}#sk-container-id-1 div.sk-parallel-item {display: flex;flex-direction: column;z-index: 1;position: relative;background-color: white;}#sk-container-id-1 div.sk-parallel-item:first-child::after {align-self: flex-end;width: 50%;}#sk-container-id-1 div.sk-parallel-item:last-child::after {align-self: flex-start;width: 50%;}#sk-container-id-1 div.sk-parallel-item:only-child::after {width: 0;}#sk-container-id-1 div.sk-dashed-wrapped {border: 1px dashed gray;margin: 0 0.4em 0.5em 0.4em;box-sizing: border-box;padding-bottom: 0.4em;background-color: white;}#sk-container-id-1 div.sk-label label {font-family: monospace;font-weight: bold;display: inline-block;line-height: 1.2em;}#sk-container-id-1 div.sk-label-container {text-align: center;}#sk-container-id-1 div.sk-container {/* jupyter's `normalize.less` sets `[hidden] { display: none; }` but bootstrap.min.css set `[hidden] { display: none !important; }` so we also need the `!important` here to be able to override the default hidden behavior on the sphinx rendered scikit-learn.org. See: https://github.com/scikit-learn/scikit-learn/issues/21755 */display: inline-block !important;position: relative;}#sk-container-id-1 div.sk-text-repr-fallback {display: none;}</style><div id=\"sk-container-id-1\" class=\"sk-top-container\"><div class=\"sk-text-repr-fallback\"><pre>XGBRegressor(base_score=None, booster=None, callbacks=None,\n",
       "             colsample_bylevel=None, colsample_bynode=None,\n",
       "             colsample_bytree=0.7, early_stopping_rounds=None,\n",
       "             enable_categorical=False, eval_metric=None, feature_types=None,\n",
       "             gamma=0, gpu_id=None, grow_policy=None, importance_type=None,\n",
       "             interaction_constraints=None, learning_rate=0.05, max_bin=None,\n",
       "             max_cat_threshold=None, max_cat_to_onehot=None,\n",
       "             max_delta_step=None, max_depth=9, max_leaves=None,\n",
       "             min_child_weight=None, missing=nan, monotone_constraints=None,\n",
       "             n_estimators=750, n_jobs=None, num_parallel_tree=None,\n",
       "             predictor=None, random_state=None, ...)</pre><b>In a Jupyter environment, please rerun this cell to show the HTML representation or trust the notebook. <br />On GitHub, the HTML representation is unable to render, please try loading this page with nbviewer.org.</b></div><div class=\"sk-container\" hidden><div class=\"sk-item\"><div class=\"sk-estimator sk-toggleable\"><input class=\"sk-toggleable__control sk-hidden--visually\" id=\"sk-estimator-id-1\" type=\"checkbox\" checked><label for=\"sk-estimator-id-1\" class=\"sk-toggleable__label sk-toggleable__label-arrow\">XGBRegressor</label><div class=\"sk-toggleable__content\"><pre>XGBRegressor(base_score=None, booster=None, callbacks=None,\n",
       "             colsample_bylevel=None, colsample_bynode=None,\n",
       "             colsample_bytree=0.7, early_stopping_rounds=None,\n",
       "             enable_categorical=False, eval_metric=None, feature_types=None,\n",
       "             gamma=0, gpu_id=None, grow_policy=None, importance_type=None,\n",
       "             interaction_constraints=None, learning_rate=0.05, max_bin=None,\n",
       "             max_cat_threshold=None, max_cat_to_onehot=None,\n",
       "             max_delta_step=None, max_depth=9, max_leaves=None,\n",
       "             min_child_weight=None, missing=nan, monotone_constraints=None,\n",
       "             n_estimators=750, n_jobs=None, num_parallel_tree=None,\n",
       "             predictor=None, random_state=None, ...)</pre></div></div></div></div></div>"
      ],
      "text/plain": [
       "XGBRegressor(base_score=None, booster=None, callbacks=None,\n",
       "             colsample_bylevel=None, colsample_bynode=None,\n",
       "             colsample_bytree=0.7, early_stopping_rounds=None,\n",
       "             enable_categorical=False, eval_metric=None, feature_types=None,\n",
       "             gamma=0, gpu_id=None, grow_policy=None, importance_type=None,\n",
       "             interaction_constraints=None, learning_rate=0.05, max_bin=None,\n",
       "             max_cat_threshold=None, max_cat_to_onehot=None,\n",
       "             max_delta_step=None, max_depth=9, max_leaves=None,\n",
       "             min_child_weight=None, missing=nan, monotone_constraints=None,\n",
       "             n_estimators=750, n_jobs=None, num_parallel_tree=None,\n",
       "             predictor=None, random_state=None, ...)"
      ]
     },
     "execution_count": 5,
     "metadata": {},
     "output_type": "execute_result"
    }
   ],
   "source": [
    "xgb_model"
   ]
  },
  {
   "cell_type": "code",
   "execution_count": 8,
   "id": "8d9b133a",
   "metadata": {},
   "outputs": [],
   "source": [
    "df = pd.read_csv('Final_dataset_cleaned.csv',index_col=0)\n",
    "df['year'] = pd.to_datetime(df['month']).dt.year.astype(int)\n",
    "df['month'] = pd.to_datetime(df['month']).dt.month.astype(int)"
   ]
  },
  {
   "cell_type": "code",
   "execution_count": 9,
   "id": "2a085c0a",
   "metadata": {},
   "outputs": [],
   "source": [
    "one_hot_encoded = pd.get_dummies(df[['town', 'flat_model']])\n",
    "df = pd.concat([df, one_hot_encoded], axis = 1)\n",
    "X = df[['month', 'year', 'flat_type_coded', 'storey_range_coded', 'floor_area_sqm', 'Dist to Nearest Mall', \\\n",
    "         'Dist to Nearest Pri Sch', 'Dist to Nearest Mrt/Lrt', 'Dist to Nearest Park', 'months_remaining',\\\n",
    "       'MRT?', 'time_to_cbd_from_flat', 'Matured Estate?', 'CPI', 'SORA', 'GDP_Q-1'] + [col for col in one_hot_encoded.columns]]\n",
    "Y = df['resale_price']\n",
    "X_train, X_test, y_train, y_test = train_test_split(X, Y, random_state = 123, test_size = 0.2)\n",
    "sc = StandardScaler()\n",
    "X_train_scaled = sc.fit_transform(X_train)\n",
    "X_test_scaled = sc.transform(X_test)\n",
    "X_scaled_combined = pd.concat([pd.DataFrame(X_train_scaled, columns=X_train.columns, index=X_train.index), pd.DataFrame(X_test_scaled, columns=X_test.columns, index=X_test.index)])\n",
    "y_combined = pd.concat([y_train, y_test])\n"
   ]
  },
  {
   "cell_type": "code",
   "execution_count": 10,
   "id": "ab63bb9a",
   "metadata": {},
   "outputs": [
    {
     "name": "stdout",
     "output_type": "stream",
     "text": [
      "R-Squared score of model (combined): 0.9921939701429695\n",
      "Mean squared error (combined): 215588436.88594902\n"
     ]
    }
   ],
   "source": [
    "y_pred=xgb_model.predict(X_scaled_combined)\n",
    "print('R-Squared score of model (combined):', r2_score(y_pred, y_combined))\n",
    "print(\"Mean squared error (combined):\", mean_squared_error(y_pred, y_combined))"
   ]
  },
  {
   "cell_type": "code",
   "execution_count": 11,
   "id": "cafe6127",
   "metadata": {},
   "outputs": [],
   "source": [
    "def price_prediction(_arg1,_arg2,_arg3,_arg4,_arg5,_arg6,_arg7,_arg8,_arg9,_arg10,_arg11,_arg12,_arg13):\n",
    "    import numpy as np\n",
    "    import pandas as pd\n",
    "    import requests\n",
    "    import datetime\n",
    "   #create the dataframe\n",
    "    df=pd.DataFrame({'flat_type':_arg1,'storey_range':_arg2,'floor_area_sqm':_arg3,\n",
    "               'Dist to Nearest Mall':_arg4, 'Dist to Nearest Pri Sch':_arg5, 'Dist to Nearest Mrt/Lrt':_arg6,\n",
    "               'Dist to Nearest Park':_arg7,'months_remaining':_arg8,'MRT?':_arg9,'time_to_cbd_from_flat':_arg10,\n",
    "               'Matured Estate?':_arg11})\n",
    "\n",
    "    town=_arg12[0]\n",
    "    flat_model=_arg13[0]\n",
    "\n",
    "   #data transformation\n",
    "    flat_type_dict={'4 ROOM': 4,'5 ROOM': 5,'3 ROOM': 3,'EXECUTIVE': 7,'2 ROOM': 2,'MULTI-GENERATION': 6,'1 ROOM': 1}\n",
    "    storey_range_dict={'04 TO 06': 2,'07 TO 09': 3,'10 TO 12': 4,'01 TO 03': 1,'13 TO 15': 5,'16 TO 18': 6,'19 TO 21': 7,\n",
    "   '22 TO 24': 8,'25 TO 27': 9,'28 TO 30': 10,'31 TO 33': 11,'34 TO 36': 12,'37 TO 39': 13,'40 TO 42': 14,'43 TO 45': 15,\n",
    "   '46 TO 48': 16,'49 TO 51': 17}\n",
    "    df['flat_type_coded']=df[\"flat_type\"].map(flat_type_dict)\n",
    "    df['storey_range_coded']=df[\"storey_range\"].map(storey_range_dict)\n",
    "\n",
    "   #get the latest Singapore Overnight Rate Average indicator\n",
    "    url = \"https://eservices.mas.gov.sg/api/action/datastore/search.json?resource_id=9a0bf149-308c-4bd2-832d-76c8e6cb47ed&limit=5&fields=end_of_day,sora&sort=end_of_day desc\"\n",
    "    response = requests.get(url)\n",
    "    data = response.json()\n",
    "    records = pd.DataFrame(data[\"result\"][\"records\"])\n",
    "    sora=records.loc[records[\"sora\"].first_valid_index(), \"sora\"]\n",
    "    df['SORA']=sora\n",
    "\n",
    "   #get the latest CPI & GDP \n",
    "    url1 = 'https://tablebuilder.singstat.gov.sg/api/table/tabledata/M212881?sortby=key%20desc&limit=1'\n",
    "    cpiresponse = requests.get(url1)\n",
    "    cpi_data = cpiresponse.json()\n",
    "    df['CPI']= cpi_data['Data']['row'][0]['columns'][0]['value'] \n",
    "\n",
    "    url2 = 'https://tablebuilder.singstat.gov.sg/api/table/tabledata/M014811?sortby=key%20desc&limit=1'\n",
    "    gdpresponse = requests.get(url2)\n",
    "    gdp_data = gdpresponse.json()\n",
    "    df['GDP_Q-1']= gdp_data['Data']['row'][0]['columns'][0]['value']\n",
    "   \n",
    "   #get the latest year & month\n",
    "    df['year'] = datetime.date.today().year\n",
    "    df['month'] = datetime.date.today().month\n",
    "\n",
    "   #one-hot encoding\n",
    "    town_encoding=['town_ANG MO KIO', 'town_BEDOK', 'town_BISHAN', 'town_BUKIT BATOK',\n",
    "       'town_BUKIT MERAH', 'town_BUKIT PANJANG', 'town_BUKIT TIMAH',\n",
    "       'town_CENTRAL AREA', 'town_CHOA CHU KANG', 'town_CLEMENTI',\n",
    "       'town_GEYLANG', 'town_HOUGANG', 'town_JURONG EAST', 'town_JURONG WEST',\n",
    "       'town_KALLANG/WHAMPOA', 'town_MARINE PARADE', 'town_PASIR RIS',\n",
    "       'town_PUNGGOL', 'town_QUEENSTOWN', 'town_SEMBAWANG', 'town_SENGKANG',\n",
    "       'town_SERANGOON', 'town_TAMPINES', 'town_TOA PAYOH', 'town_WOODLANDS',\n",
    "       'town_YISHUN']\n",
    "    df_town=pd.DataFrame(dict(zip(town_encoding, len(town_encoding)*[0])),index=[0])\n",
    "    col=[i for i in df_town.columns if town in i]\n",
    "    df_town[[i for i in df_town.columns if town in i][0]]=1\n",
    "\n",
    "    flat_encoding=['flat_model_2-room', 'flat_model_3Gen',\n",
    "       'flat_model_Adjoined flat', 'flat_model_Apartment', 'flat_model_DBSS',\n",
    "       'flat_model_Improved', 'flat_model_Improved-Maisonette',\n",
    "       'flat_model_Maisonette', 'flat_model_Model A',\n",
    "       'flat_model_Model A-Maisonette', 'flat_model_Model A2',\n",
    "       'flat_model_Multi Generation', 'flat_model_New Generation',\n",
    "       'flat_model_Premium Apartment', 'flat_model_Premium Apartment Loft',\n",
    "       'flat_model_Premium Maisonette', 'flat_model_Simplified',\n",
    "       'flat_model_Standard', 'flat_model_Terrace', 'flat_model_Type S1',\n",
    "       'flat_model_Type S2']\n",
    "    df_flat=pd.DataFrame(dict(zip(flat_encoding, len(flat_encoding)*[0])),index=[0])\n",
    "    col=[i for i in df_flat.columns if flat_model in i]\n",
    "    df_flat[[i for i in df_flat.columns if flat_model in i][0]]=1\n",
    "\n",
    "    df2=pd.concat([df_town,df_flat],axis=1)\n",
    "\n",
    "   #rearrange\n",
    "    df = df[['month', 'year', 'flat_type_coded', 'storey_range_coded', 'floor_area_sqm', 'Dist to Nearest Mall', \\\n",
    "   'Dist to Nearest Pri Sch', 'Dist to Nearest Mrt/Lrt', 'Dist to Nearest Park', 'months_remaining',\\\n",
    "   'MRT?', 'time_to_cbd_from_flat', 'Matured Estate?', 'CPI', 'SORA', 'GDP_Q-1'] ]\n",
    "    df_final=pd.concat([df,df2],axis=1)\n",
    "\n",
    "    X=sc.transform(df_final)\n",
    "    X=pd.DataFrame(X, columns=df_final.columns)\n",
    "\n",
    "    y_pred=xgb_model.predict(X)\n",
    "\n",
    "    return y_pred.tolist()"
   ]
  },
  {
   "cell_type": "code",
   "execution_count": 12,
   "id": "b64b906a",
   "metadata": {},
   "outputs": [],
   "source": [
    "client.deploy('price_prediction',price_prediction,\"This function is used to forecast resale HDB flat price\",override = True)"
   ]
  }
 ],
 "metadata": {
  "kernelspec": {
   "display_name": "Python 3 (ipykernel)",
   "language": "python",
   "name": "python3"
  },
  "language_info": {
   "codemirror_mode": {
    "name": "ipython",
    "version": 3
   },
   "file_extension": ".py",
   "mimetype": "text/x-python",
   "name": "python",
   "nbconvert_exporter": "python",
   "pygments_lexer": "ipython3",
   "version": "3.9.7"
  }
 },
 "nbformat": 4,
 "nbformat_minor": 5
}
