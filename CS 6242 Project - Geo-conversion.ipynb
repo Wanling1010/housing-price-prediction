{
 "cells": [
  {
   "cell_type": "code",
   "execution_count": 1,
   "id": "022bf764",
   "metadata": {},
   "outputs": [],
   "source": [
    "import geopandas as gpd\n",
    "import pandas as pd\n",
    "import requests\n",
    "pd.options.display.max_columns=None"
   ]
  },
  {
   "cell_type": "code",
   "execution_count": 2,
   "id": "34063d1b",
   "metadata": {},
   "outputs": [],
   "source": [
    "df = gpd.read_file('planning-boundary-area.geojson')\n",
    "df1=pd.read_csv(\"Final_dataset w Predicted Prices (with retraining).csv\", index_col=[0])"
   ]
  },
  {
   "cell_type": "code",
   "execution_count": 9,
   "id": "cbf201c0",
   "metadata": {
    "scrolled": true
   },
   "outputs": [],
   "source": [
    "# postal_list = []\n",
    "# for i in test_df.iterrows():\n",
    "#     postal_details = requests.get('https://developers.onemap.sg/commonapi/search?searchVal={}&returnGeom=Y&getAddrDetails=Y'.format(i[1]['postal'])).json()\n",
    "#     postal_list.append(postal_details)"
   ]
  },
  {
   "cell_type": "code",
   "execution_count": 3,
   "id": "39a4e704",
   "metadata": {},
   "outputs": [],
   "source": [
    "df_final = gpd.GeoDataFrame(\n",
    "    df1, geometry=gpd.points_from_xy(df1['Longitude'], df1['Latitude'])).set_crs('EPSG:4326')"
   ]
  },
  {
   "cell_type": "code",
   "execution_count": 4,
   "id": "1127faf6",
   "metadata": {},
   "outputs": [],
   "source": [
    "joined_df = df.sjoin(df_final, predicate='contains', how='left')"
   ]
  },
  {
   "cell_type": "code",
   "execution_count": 5,
   "id": "1110c701",
   "metadata": {},
   "outputs": [],
   "source": [
    "joined_df.to_file('joined_df.geojson', driver=\"GeoJSON\")  "
   ]
  },
  {
   "cell_type": "code",
   "execution_count": null,
   "id": "7569d496",
   "metadata": {},
   "outputs": [],
   "source": []
  }
 ],
 "metadata": {
  "kernelspec": {
   "display_name": "Python 3 (ipykernel)",
   "language": "python",
   "name": "python3"
  },
  "language_info": {
   "codemirror_mode": {
    "name": "ipython",
    "version": 3
   },
   "file_extension": ".py",
   "mimetype": "text/x-python",
   "name": "python",
   "nbconvert_exporter": "python",
   "pygments_lexer": "ipython3",
   "version": "3.9.7"
  }
 },
 "nbformat": 4,
 "nbformat_minor": 5
}
